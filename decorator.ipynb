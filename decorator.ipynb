{
 "cells": [
  {
   "cell_type": "markdown",
   "metadata": {},
   "source": [
    "\n",
    "A dekorátor egy olyan tervezési mintázat a python-ban, amely lehetővé teszi a felhasználó száméra, hogy új funkcionalitást adjon egy meglévő Metódushoz anélkül, hogy a struktúráját megváltoztatnánk"
   ]
  },
  {
   "cell_type": "code",
   "execution_count": null,
   "metadata": {},
   "outputs": [],
   "source": [
    "def osztas_tesztelese(func):\n",
    "     def wrapper(oszto, osztando):\n",
    "          if osztando == 0:\n",
    "               return \"A nullával való osztás nincs értelmezve!\"\n",
    "          return func(oszto, osztando)\n",
    "     return wrapper"
   ]
  },
  {
   "cell_type": "code",
   "execution_count": null,
   "metadata": {},
   "outputs": [],
   "source": [
    "def osztas(oszto, osztando):\n",
    "     return oszto/osztando\n",
    "\n",
    "print(osztas(4,0))"
   ]
  },
  {
   "cell_type": "markdown",
   "metadata": {},
   "source": [
    "# ----"
   ]
  },
  {
   "cell_type": "code",
   "execution_count": null,
   "metadata": {},
   "outputs": [],
   "source": [
    "@osztas_tesztelese\n",
    "def osztas(oszto, osztando):\n",
    "     return(oszto/osztando)\n",
    "\n",
    "print(osztas(3, 0))"
   ]
  }
 ],
 "metadata": {
  "kernelspec": {
   "display_name": "Python 3",
   "language": "python",
   "name": "python3"
  },
  "language_info": {
   "codemirror_mode": {
    "name": "ipython",
    "version": 3
   },
   "file_extension": ".py",
   "mimetype": "text/x-python",
   "name": "python",
   "nbconvert_exporter": "python",
   "pygments_lexer": "ipython3",
   "version": "3.11.9"
  }
 },
 "nbformat": 4,
 "nbformat_minor": 2
}
