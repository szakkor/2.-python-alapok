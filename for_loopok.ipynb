{
 "cells": [
  {
   "cell_type": "markdown",
   "metadata": {},
   "source": [
    "## A for loop-al azt tudjuk csinálni hogy bizonyos alkalommal végigmegyünk a benne leírt kódon"
   ]
  },
  {
   "cell_type": "code",
   "execution_count": null,
   "metadata": {},
   "outputs": [],
   "source": [
    "for i in range(10):\n",
    "     print(i)"
   ]
  },
  {
   "cell_type": "code",
   "execution_count": null,
   "metadata": {},
   "outputs": [],
   "source": [
    "for i in range(1, 11):\n",
    "     print(i)"
   ]
  },
  {
   "cell_type": "markdown",
   "metadata": {},
   "source": [
    "# Menjünk végig a lista elemein"
   ]
  },
  {
   "cell_type": "code",
   "execution_count": null,
   "metadata": {},
   "outputs": [],
   "source": [
    "lista1 = [1, 3, 5, 3, 2, 1, 4, 6, 6, 7, 8]\n",
    "lista2 = [True, True, False, True]\n",
    "lista3 = [\"a\", \"b\", \"c\", \"d\"]\n",
    "lista4 = [\"a\", True, 5]\n"
   ]
  },
  {
   "cell_type": "code",
   "execution_count": null,
   "metadata": {},
   "outputs": [],
   "source": [
    "for elem in lista1:\n",
    "     print(elem)\n",
    "\n",
    "for elem in lista2:\n",
    "     print(elem)\n",
    "\n",
    "for elem in lista3:\n",
    "     print(elem)\n",
    "\n",
    "for elem in lista4:\n",
    "     print(elem)"
   ]
  },
  {
   "cell_type": "markdown",
   "metadata": {},
   "source": [
    "##### Egy másik módszer"
   ]
  },
  {
   "cell_type": "code",
   "execution_count": 10,
   "metadata": {},
   "outputs": [
    {
     "name": "stdout",
     "output_type": "stream",
     "text": [
      "1\n",
      "index: 0, Értéke: 1\n",
      "3\n",
      "index: 1, Értéke: 3\n",
      "5\n",
      "index: 2, Értéke: 5\n",
      "3\n",
      "index: 3, Értéke: 3\n",
      "2\n",
      "index: 4, Értéke: 2\n",
      "1\n",
      "index: 5, Értéke: 1\n",
      "4\n",
      "index: 6, Értéke: 4\n",
      "6\n",
      "index: 7, Értéke: 6\n",
      "6\n",
      "index: 8, Értéke: 6\n",
      "7\n",
      "index: 9, Értéke: 7\n",
      "8\n",
      "index: 10, Értéke: 8\n"
     ]
    }
   ],
   "source": [
    "for elem in range(len(lista1)):\n",
    "     print(lista1[elem])\n",
    "\n",
    "     print(f\"index: {elem}, Értéke: {lista1[elem]}\")"
   ]
  }
 ],
 "metadata": {
  "kernelspec": {
   "display_name": "Python 3",
   "language": "python",
   "name": "python3"
  },
  "language_info": {
   "codemirror_mode": {
    "name": "ipython",
    "version": 3
   },
   "file_extension": ".py",
   "mimetype": "text/x-python",
   "name": "python",
   "nbconvert_exporter": "python",
   "pygments_lexer": "ipython3",
   "version": "3.11.9"
  }
 },
 "nbformat": 4,
 "nbformat_minor": 2
}
